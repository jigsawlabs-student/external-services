{
 "cells": [
  {
   "cell_type": "markdown",
   "metadata": {},
   "source": [
    "# External Services"
   ]
  },
  {
   "cell_type": "markdown",
   "metadata": {},
   "source": [
    "### Introduction"
   ]
  },
  {
   "cell_type": "markdown",
   "metadata": {},
   "source": [
    "In previous lessons, we were able to connect to a group of pods in our cluster through a Kubernetes service.  Specifically, we used a `ClusterIP` service.  A ClusterIP service, as the name implies, only has an ip address that is available from *within the cluster*.  So if we want to say, expose the web component (ie. streamlit) to external users, we'll need to use a different service.  \n",
    "\n",
    "Here, we'll use a service of type `NodePort`.  And as we'll a NodePort service is visible outside of the cluster."
   ]
  },
  {
   "cell_type": "markdown",
   "metadata": {},
   "source": [
    "### NodePort Services"
   ]
  },
  {
   "cell_type": "markdown",
   "metadata": {},
   "source": [
    "Let's take a look at the new structure of our Kubernetes cluster, now that we'll have an ingress service. Traffic will come in and hit our ingress and from there visit the designated service, followed by one of the related pods."
   ]
  },
  {
   "cell_type": "markdown",
   "metadata": {},
   "source": [
    "<img src=\"./nodeport_cluster.jpg\" width=\"60%\">"
   ]
  },
  {
   "cell_type": "markdown",
   "metadata": {},
   "source": [
    "So in the diagram above, a client -- that is, a web browser -- will make a request to our nodeport service.  Then the nodeport will route to one of the relevant pods.  "
   ]
  },
  {
   "cell_type": "markdown",
   "metadata": {},
   "source": [
    "### Building the Ingress"
   ]
  },
  {
   "cell_type": "markdown",
   "metadata": {},
   "source": [
    "Next, let's move on towards writing Kubernetes configuration file.  Our config file for the NodePort service is quite similar to that for the ClusterIP service"
   ]
  },
  {
   "cell_type": "markdown",
   "metadata": {},
   "source": [
    "```yaml\n",
    "apiVersion: v1\n",
    "kind: Service\n",
    "metadata:\n",
    "  name: api-cluster-ip-service\n",
    "spec:\n",
    "  type: ClusterIP\n",
    "  selector:\n",
    "    component: api\n",
    "  ports:\n",
    "    - port: 5000\n",
    "      targetPort: 5000\n",
    "```"
   ]
  },
  {
   "cell_type": "markdown",
   "metadata": {},
   "source": [
    "### Viewing our Service"
   ]
  },
  {
   "cell_type": "markdown",
   "metadata": {},
   "source": [
    "Now let's give it a shot.  We'll see if we can view our api from the browser.  \n",
    "\n",
    "So remember that our kubernetes cluster is located within a virtual machine setup in minikube.  We can find the ip address to our cluster with the command `minikube ip`."
   ]
  },
  {
   "cell_type": "markdown",
   "metadata": {},
   "source": [
    "```bash\n",
    "minikube ip\n",
    "\n",
    "192.168.64.5\n",
    "```"
   ]
  },
  {
   "cell_type": "markdown",
   "metadata": {},
   "source": [
    "And if we visit this ip address we should reach the ingress service, which routes requests to our `api-deployment-service`, which will route our request to one of the pods in the api deployment.  Let's check it out."
   ]
  },
  {
   "cell_type": "markdown",
   "metadata": {},
   "source": [
    "And so it is."
   ]
  },
  {
   "cell_type": "markdown",
   "metadata": {},
   "source": [
    "<img src=\"./view-restaurants.png\" width=\"70%\">"
   ]
  },
  {
   "cell_type": "markdown",
   "metadata": {},
   "source": [
    "### Summary"
   ]
  },
  {
   "cell_type": "markdown",
   "metadata": {},
   "source": [
    "In this lesson, we learned how to expose our cluster externally using an ingress service. Specifically, we used the [ingress nginx service](https://github.com/kubernetes/ingress-nginx/).  We first installed the service locally to kubernetes, and then wrote our configuration file.  "
   ]
  },
  {
   "cell_type": "markdown",
   "metadata": {},
   "source": [
    "### Resources\n",
    "\n",
    "[Kubernetes Nginx](https://kubernetes.io/docs/concepts/services-networking/ingress/)"
   ]
  },
  {
   "cell_type": "markdown",
   "metadata": {},
   "source": [
    "[Ingress Nginx Github](https://github.com/kubernetes/ingress-nginx)\n",
    "\n",
    "[Kubernetes Ingress Blogpost](https://www.joyfulbikeshedding.com/blog/2018-03-26-studying-the-kubernetes-ingress-system.html)"
   ]
  }
 ],
 "metadata": {
  "kernelspec": {
   "display_name": "Python 3",
   "language": "python",
   "name": "python3"
  },
  "language_info": {
   "codemirror_mode": {
    "name": "ipython",
    "version": 3
   },
   "file_extension": ".py",
   "mimetype": "text/x-python",
   "name": "python",
   "nbconvert_exporter": "python",
   "pygments_lexer": "ipython3",
   "version": "3.8.6"
  }
 },
 "nbformat": 4,
 "nbformat_minor": 4
}
